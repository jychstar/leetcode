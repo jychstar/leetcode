{
 "cells": [
  {
   "cell_type": "markdown",
   "metadata": {},
   "source": [
    "https://blogs.sas.com/content/iml/2016/03/14/monte-carlo-estimates-of-pi.html"
   ]
  },
  {
   "cell_type": "code",
   "execution_count": 1,
   "metadata": {
    "collapsed": false
   },
   "outputs": [
    {
     "name": "stdout",
     "output_type": "stream",
     "text": [
      "100 [3.25101781]\n",
      "10000 [3.15250733]\n",
      "1000000 [3.14218485]\n"
     ]
    }
   ],
   "source": [
    "import numpy as np\n",
    "import matplotlib.pyplot as plt\n",
    "\n",
    "def average(N):\n",
    "    a = 0.0\n",
    "    for i in range(N):\n",
    "        x = np.random.rand(1)\n",
    "        a += np.sqrt(1-x*x)\n",
    "    return a*4/N\n",
    "print(100, average(100))\n",
    "print(10000, average(10000))  \n",
    "print(1000000, average(1000000)) "
   ]
  },
  {
   "cell_type": "code",
   "execution_count": 2,
   "metadata": {
    "collapsed": false
   },
   "outputs": [
    {
     "name": "stdout",
     "output_type": "stream",
     "text": [
      "1 (3.08, 1.6833300330000651)\n",
      "100 (3.1628, 0.15359739581125717)\n",
      "10000 (3.13994, 0.017649419253901833)\n",
      "1000000 (3.1416884400000002, 0.001782665769683136)\n"
     ]
    }
   ],
   "source": [
    "def area(N):\n",
    "    a = []\n",
    "    for i in range(100):\n",
    "        x = np.random.rand(N)\n",
    "        y = np.random.rand(N)\n",
    "        cnt = np.sum(x*x + y*y < 1)\n",
    "        a.append(cnt*4/N)\n",
    "    return np.mean(a), np.std(a)\n",
    "print(1, area(1))\n",
    "print(100, area(100))\n",
    "print(10000, area(10000))  \n",
    "print(1000000, area(1000000))  "
   ]
  },
  {
   "cell_type": "markdown",
   "metadata": {},
   "source": [
    "## accuracy of pi\n",
    "- https://math.stackexchange.com/questions/397028/compute-value-of-pi-up-to-8-digits\n",
    "- http://mathforum.org/library/drmath/view/51909.html\n",
    "\n",
    "Basically, it is about the standard deviation of the Binomial distribution (a single independent experiment is called Bernoulli experiment, with a mean of p and the variance of p-p^2). For B(n,p), the variance is np(1-p), the standard deviation is  $$ \\sqrt{p(1-p)/n} $$\n",
    "\n",
    "In our case of Monte Carlo simulation, p = pi/4\n",
    "\n",
    "note: Lastly, we need to time 4 to get pi"
   ]
  },
  {
   "cell_type": "code",
   "execution_count": 3,
   "metadata": {
    "collapsed": false
   },
   "outputs": [
    {
     "name": "stdout",
     "output_type": "stream",
     "text": [
      "1.642183367736324\n",
      "0.1642183367736324\n",
      "0.01642183367736324\n"
     ]
    }
   ],
   "source": [
    "p = np.pi/4\n",
    "print(4*np.sqrt(p*(1-p)))\n",
    "print(4*np.sqrt(p*(1-p)/100))\n",
    "print(4*np.sqrt(p*(1-p)/10000))"
   ]
  },
  {
   "cell_type": "markdown",
   "metadata": {},
   "source": [
    "## Buffon's needle\n",
    "\n",
    "http://mragheb.com/NPRE%20498MC%20Monte%20Carlo%20Simulations%20in%20Engineering/The%20Buffon's%20Needle%20Problem.pdf"
   ]
  },
  {
   "cell_type": "code",
   "execution_count": 4,
   "metadata": {
    "collapsed": false
   },
   "outputs": [
    {
     "name": "stdout",
     "output_type": "stream",
     "text": [
      "1 (650000000.3499999, 476969600.2315032)\n",
      "100 (3.3106781666422433, 0.46413269468052853)\n",
      "10000 (3.1395969028409714, 0.04473304824869103)\n",
      "1000000 (3.1411138531048524, 0.004602581213887708)\n"
     ]
    }
   ],
   "source": [
    "# line space = d, needle length = L, L < d\n",
    "# assume L=2, \n",
    "def needle(N):\n",
    "    a = []\n",
    "    for i in range(100):\n",
    "        x = np.random.rand(N)\n",
    "        theta = np.random.rand(N)*np.pi/2\n",
    "        cnt = np.sum(x < 0.5*np.cos(theta))+1e-9\n",
    "        a.append(N/cnt)\n",
    "    return np.mean(a), np.std(a)\n",
    "print(1, needle(1))  # zero warning\n",
    "print(100, needle(100))\n",
    "print(10000, needle(10000))  \n",
    "print(1000000, needle(1000000))  "
   ]
  },
  {
   "cell_type": "code",
   "execution_count": null,
   "metadata": {
    "collapsed": true
   },
   "outputs": [],
   "source": []
  }
 ],
 "metadata": {
  "anaconda-cloud": {},
  "kernelspec": {
   "display_name": "Python [conda env:py3]",
   "language": "python",
   "name": "conda-env-py3-py"
  },
  "language_info": {
   "codemirror_mode": {
    "name": "ipython",
    "version": 3
   },
   "file_extension": ".py",
   "mimetype": "text/x-python",
   "name": "python",
   "nbconvert_exporter": "python",
   "pygments_lexer": "ipython3",
   "version": "3.6.0"
  }
 },
 "nbformat": 4,
 "nbformat_minor": 2
}
